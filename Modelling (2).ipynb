{
  "cells": [
    {
      "cell_type": "markdown",
      "source": [
        "## **MODEL TRAINING AND EVALUATION**"
      ],
      "metadata": {
        "id": "cBqIm5o3wtF9"
      }
    },
    {
      "cell_type": "markdown",
      "metadata": {
        "id": "-E2nMRTU7rwK"
      },
      "source": [
        "####***Importing the required libraries***"
      ]
    },
    {
      "cell_type": "code",
      "execution_count": 23,
      "metadata": {
        "id": "LsSC4q6Q76cc"
      },
      "outputs": [],
      "source": [
        "#mathematical computations\n",
        "import numpy as np\n",
        "\n",
        "# data manipulation\n",
        "import pandas as pd\n",
        "\n",
        "# visualization\n",
        "import matplotlib.pyplot as plt\n",
        "import seaborn as sns\n",
        "\n",
        "# Encoding\n",
        "from sklearn.preprocessing import LabelEncoder, OneHotEncoder\n",
        "\n",
        "# Splitting and Scaling\n",
        "from sklearn.model_selection import train_test_split\n",
        "from sklearn.preprocessing import MinMaxScaler\n",
        "from sklearn.preprocessing import StandardScaler\n",
        "\n",
        "# Oversampling\n",
        "from imblearn.over_sampling import SMOTE\n",
        "# warnings\n",
        "import warnings\n",
        "warnings.filterwarnings('ignore')\n",
        "\n",
        "# Modelling\n",
        "from sklearn.ensemble import RandomForestClassifier\n",
        "from sklearn.neighbors import  KNeighborsClassifier\n",
        "from xgboost import XGBClassifier\n",
        "\n",
        "# Metrics\n",
        "from sklearn.metrics import accuracy_score, f1_score, classification_report,confusion_matrix\n"
      ]
    },
    {
      "cell_type": "code",
      "source": [
        "# mount gdrive\n",
        "from google.colab import drive\n",
        "drive.mount('/content/gdrive')"
      ],
      "metadata": {
        "id": "_646lmjCp5uy",
        "colab": {
          "base_uri": "https://localhost:8080/"
        },
        "outputId": "f383deb8-3b11-496c-d54c-99a41a7ddc2a"
      },
      "execution_count": 4,
      "outputs": [
        {
          "output_type": "stream",
          "name": "stdout",
          "text": [
            "Mounted at /content/gdrive\n"
          ]
        }
      ]
    },
    {
      "cell_type": "code",
      "execution_count": 5,
      "metadata": {
        "id": "9uESSAeN8Qzg",
        "colab": {
          "base_uri": "https://localhost:8080/",
          "height": 206
        },
        "outputId": "f9ca75d6-98c3-4245-fb18-e9c5bd606250"
      },
      "outputs": [
        {
          "output_type": "execute_result",
          "data": {
            "text/plain": [
              "         date home_team away_team  home_score  away_score tournament     city  \\\n",
              "0  1872-11-30  Scotland   England           0           0   Friendly  Glasgow   \n",
              "1  1873-03-08   England  Scotland           4           2   Friendly   London   \n",
              "2  1874-03-07  Scotland   England           2           1   Friendly  Glasgow   \n",
              "3  1875-03-06   England  Scotland           2           2   Friendly   London   \n",
              "4  1876-03-04  Scotland   England           3           0   Friendly  Glasgow   \n",
              "\n",
              "    country  neutral          result  \n",
              "0  Scotland    False            draw  \n",
              "1   England    False  home_team_wins  \n",
              "2  Scotland    False  home_team_wins  \n",
              "3   England    False            draw  \n",
              "4  Scotland    False  home_team_wins  "
            ],
            "text/html": [
              "\n",
              "  <div id=\"df-276272b4-4994-48bb-84c6-ec73747aa98d\">\n",
              "    <div class=\"colab-df-container\">\n",
              "      <div>\n",
              "<style scoped>\n",
              "    .dataframe tbody tr th:only-of-type {\n",
              "        vertical-align: middle;\n",
              "    }\n",
              "\n",
              "    .dataframe tbody tr th {\n",
              "        vertical-align: top;\n",
              "    }\n",
              "\n",
              "    .dataframe thead th {\n",
              "        text-align: right;\n",
              "    }\n",
              "</style>\n",
              "<table border=\"1\" class=\"dataframe\">\n",
              "  <thead>\n",
              "    <tr style=\"text-align: right;\">\n",
              "      <th></th>\n",
              "      <th>date</th>\n",
              "      <th>home_team</th>\n",
              "      <th>away_team</th>\n",
              "      <th>home_score</th>\n",
              "      <th>away_score</th>\n",
              "      <th>tournament</th>\n",
              "      <th>city</th>\n",
              "      <th>country</th>\n",
              "      <th>neutral</th>\n",
              "      <th>result</th>\n",
              "    </tr>\n",
              "  </thead>\n",
              "  <tbody>\n",
              "    <tr>\n",
              "      <th>0</th>\n",
              "      <td>1872-11-30</td>\n",
              "      <td>Scotland</td>\n",
              "      <td>England</td>\n",
              "      <td>0</td>\n",
              "      <td>0</td>\n",
              "      <td>Friendly</td>\n",
              "      <td>Glasgow</td>\n",
              "      <td>Scotland</td>\n",
              "      <td>False</td>\n",
              "      <td>draw</td>\n",
              "    </tr>\n",
              "    <tr>\n",
              "      <th>1</th>\n",
              "      <td>1873-03-08</td>\n",
              "      <td>England</td>\n",
              "      <td>Scotland</td>\n",
              "      <td>4</td>\n",
              "      <td>2</td>\n",
              "      <td>Friendly</td>\n",
              "      <td>London</td>\n",
              "      <td>England</td>\n",
              "      <td>False</td>\n",
              "      <td>home_team_wins</td>\n",
              "    </tr>\n",
              "    <tr>\n",
              "      <th>2</th>\n",
              "      <td>1874-03-07</td>\n",
              "      <td>Scotland</td>\n",
              "      <td>England</td>\n",
              "      <td>2</td>\n",
              "      <td>1</td>\n",
              "      <td>Friendly</td>\n",
              "      <td>Glasgow</td>\n",
              "      <td>Scotland</td>\n",
              "      <td>False</td>\n",
              "      <td>home_team_wins</td>\n",
              "    </tr>\n",
              "    <tr>\n",
              "      <th>3</th>\n",
              "      <td>1875-03-06</td>\n",
              "      <td>England</td>\n",
              "      <td>Scotland</td>\n",
              "      <td>2</td>\n",
              "      <td>2</td>\n",
              "      <td>Friendly</td>\n",
              "      <td>London</td>\n",
              "      <td>England</td>\n",
              "      <td>False</td>\n",
              "      <td>draw</td>\n",
              "    </tr>\n",
              "    <tr>\n",
              "      <th>4</th>\n",
              "      <td>1876-03-04</td>\n",
              "      <td>Scotland</td>\n",
              "      <td>England</td>\n",
              "      <td>3</td>\n",
              "      <td>0</td>\n",
              "      <td>Friendly</td>\n",
              "      <td>Glasgow</td>\n",
              "      <td>Scotland</td>\n",
              "      <td>False</td>\n",
              "      <td>home_team_wins</td>\n",
              "    </tr>\n",
              "  </tbody>\n",
              "</table>\n",
              "</div>\n",
              "      <button class=\"colab-df-convert\" onclick=\"convertToInteractive('df-276272b4-4994-48bb-84c6-ec73747aa98d')\"\n",
              "              title=\"Convert this dataframe to an interactive table.\"\n",
              "              style=\"display:none;\">\n",
              "        \n",
              "  <svg xmlns=\"http://www.w3.org/2000/svg\" height=\"24px\"viewBox=\"0 0 24 24\"\n",
              "       width=\"24px\">\n",
              "    <path d=\"M0 0h24v24H0V0z\" fill=\"none\"/>\n",
              "    <path d=\"M18.56 5.44l.94 2.06.94-2.06 2.06-.94-2.06-.94-.94-2.06-.94 2.06-2.06.94zm-11 1L8.5 8.5l.94-2.06 2.06-.94-2.06-.94L8.5 2.5l-.94 2.06-2.06.94zm10 10l.94 2.06.94-2.06 2.06-.94-2.06-.94-.94-2.06-.94 2.06-2.06.94z\"/><path d=\"M17.41 7.96l-1.37-1.37c-.4-.4-.92-.59-1.43-.59-.52 0-1.04.2-1.43.59L10.3 9.45l-7.72 7.72c-.78.78-.78 2.05 0 2.83L4 21.41c.39.39.9.59 1.41.59.51 0 1.02-.2 1.41-.59l7.78-7.78 2.81-2.81c.8-.78.8-2.07 0-2.86zM5.41 20L4 18.59l7.72-7.72 1.47 1.35L5.41 20z\"/>\n",
              "  </svg>\n",
              "      </button>\n",
              "      \n",
              "  <style>\n",
              "    .colab-df-container {\n",
              "      display:flex;\n",
              "      flex-wrap:wrap;\n",
              "      gap: 12px;\n",
              "    }\n",
              "\n",
              "    .colab-df-convert {\n",
              "      background-color: #E8F0FE;\n",
              "      border: none;\n",
              "      border-radius: 50%;\n",
              "      cursor: pointer;\n",
              "      display: none;\n",
              "      fill: #1967D2;\n",
              "      height: 32px;\n",
              "      padding: 0 0 0 0;\n",
              "      width: 32px;\n",
              "    }\n",
              "\n",
              "    .colab-df-convert:hover {\n",
              "      background-color: #E2EBFA;\n",
              "      box-shadow: 0px 1px 2px rgba(60, 64, 67, 0.3), 0px 1px 3px 1px rgba(60, 64, 67, 0.15);\n",
              "      fill: #174EA6;\n",
              "    }\n",
              "\n",
              "    [theme=dark] .colab-df-convert {\n",
              "      background-color: #3B4455;\n",
              "      fill: #D2E3FC;\n",
              "    }\n",
              "\n",
              "    [theme=dark] .colab-df-convert:hover {\n",
              "      background-color: #434B5C;\n",
              "      box-shadow: 0px 1px 3px 1px rgba(0, 0, 0, 0.15);\n",
              "      filter: drop-shadow(0px 1px 2px rgba(0, 0, 0, 0.3));\n",
              "      fill: #FFFFFF;\n",
              "    }\n",
              "  </style>\n",
              "\n",
              "      <script>\n",
              "        const buttonEl =\n",
              "          document.querySelector('#df-276272b4-4994-48bb-84c6-ec73747aa98d button.colab-df-convert');\n",
              "        buttonEl.style.display =\n",
              "          google.colab.kernel.accessAllowed ? 'block' : 'none';\n",
              "\n",
              "        async function convertToInteractive(key) {\n",
              "          const element = document.querySelector('#df-276272b4-4994-48bb-84c6-ec73747aa98d');\n",
              "          const dataTable =\n",
              "            await google.colab.kernel.invokeFunction('convertToInteractive',\n",
              "                                                     [key], {});\n",
              "          if (!dataTable) return;\n",
              "\n",
              "          const docLinkHtml = 'Like what you see? Visit the ' +\n",
              "            '<a target=\"_blank\" href=https://colab.research.google.com/notebooks/data_table.ipynb>data table notebook</a>'\n",
              "            + ' to learn more about interactive tables.';\n",
              "          element.innerHTML = '';\n",
              "          dataTable['output_type'] = 'display_data';\n",
              "          await google.colab.output.renderOutput(dataTable, element);\n",
              "          const docLink = document.createElement('div');\n",
              "          docLink.innerHTML = docLinkHtml;\n",
              "          element.appendChild(docLink);\n",
              "        }\n",
              "      </script>\n",
              "    </div>\n",
              "  </div>\n",
              "  "
            ]
          },
          "metadata": {},
          "execution_count": 5
        }
      ],
      "source": [
        "# load data\n",
        "data = pd.read_csv('/content/gdrive/MyDrive/football_prediction/data/cleaned_data.csv')\n",
        "data.head()"
      ]
    },
    {
      "cell_type": "markdown",
      "metadata": {
        "id": "drAu8fRk84b7"
      },
      "source": [
        "### **DATA PREPROCESSING AND FEATURE ENGINEERING**"
      ]
    },
    {
      "cell_type": "markdown",
      "source": [
        "Given that we do not plan to carry out a time series analysis as the time spans are inconsistent, the date column is deemed irrelevant hence we will drop it."
      ],
      "metadata": {
        "id": "yZwm3Of2siPN"
      }
    },
    {
      "cell_type": "code",
      "source": [
        "# remove irrelevant columns\n",
        "data = data.drop(columns=['date'])\n",
        "\n",
        "# column preview\n",
        "data.columns"
      ],
      "metadata": {
        "colab": {
          "base_uri": "https://localhost:8080/"
        },
        "id": "BKDgk3-bryeE",
        "outputId": "38b1cc7f-7deb-40c7-ef00-c114ffd61471"
      },
      "execution_count": 6,
      "outputs": [
        {
          "output_type": "execute_result",
          "data": {
            "text/plain": [
              "Index(['home_team', 'away_team', 'home_score', 'away_score', 'tournament',\n",
              "       'city', 'country', 'neutral', 'result'],\n",
              "      dtype='object')"
            ]
          },
          "metadata": {},
          "execution_count": 6
        }
      ]
    },
    {
      "cell_type": "markdown",
      "source": [
        "####****Feature Encoding****"
      ],
      "metadata": {
        "id": "jno8jqvT5XEf"
      }
    },
    {
      "cell_type": "markdown",
      "source": [
        "For modelling we require all variables to be in numerical form. Therefore we will label encode our neutral and results column and one hot encode the remaining columns."
      ],
      "metadata": {
        "id": "0g1Q4SXas7CO"
      }
    },
    {
      "cell_type": "code",
      "execution_count": 7,
      "metadata": {
        "id": "d5FTqRAM9iBM"
      },
      "outputs": [],
      "source": [
        "# Convert the categorical data into numerical data using one hot encoding\n",
        "cat_features = ['home_team', 'away_team', 'tournament', 'city', 'country']\n",
        "data_ohe =  pd.get_dummies(data[cat_features], drop_first=True)\n"
      ]
    },
    {
      "cell_type": "code",
      "source": [
        "# instantiate label encoder\n",
        "le = LabelEncoder()\n",
        "\n",
        "# fit transform the target\n",
        "encoded_target = le.fit_transform(data[\"result\"])\n",
        "\n",
        "# fit transform the neutral\n",
        "encoded_neutral = le.fit_transform(data[\"neutral\"])"
      ],
      "metadata": {
        "id": "g6te2ZRdzOew"
      },
      "execution_count": 8,
      "outputs": []
    },
    {
      "cell_type": "code",
      "execution_count": 9,
      "metadata": {
        "id": "7je-34-d9weO",
        "colab": {
          "base_uri": "https://localhost:8080/",
          "height": 505
        },
        "outputId": "88058743-79cf-4051-cea9-b783a5f6e21e"
      },
      "outputs": [
        {
          "output_type": "execute_result",
          "data": {
            "text/plain": [
              "       home_team_Afghanistan  home_team_Albania  home_team_Alderney  \\\n",
              "0                          0                  0                   0   \n",
              "1                          0                  0                   0   \n",
              "2                          0                  0                   0   \n",
              "3                          0                  0                   0   \n",
              "4                          0                  0                   0   \n",
              "...                      ...                ...                 ...   \n",
              "44552                      0                  0                   0   \n",
              "44553                      0                  0                   0   \n",
              "44554                      0                  0                   0   \n",
              "44555                      0                  0                   0   \n",
              "44556                      0                  0                   0   \n",
              "\n",
              "       home_team_Algeria  home_team_American Samoa  home_team_Andalusia  \\\n",
              "0                      0                         0                    0   \n",
              "1                      0                         0                    0   \n",
              "2                      0                         0                    0   \n",
              "3                      0                         0                    0   \n",
              "4                      0                         0                    0   \n",
              "...                  ...                       ...                  ...   \n",
              "44552                  0                         0                    0   \n",
              "44553                  0                         0                    0   \n",
              "44554                  0                         0                    0   \n",
              "44555                  0                         0                    0   \n",
              "44556                  0                         0                    0   \n",
              "\n",
              "       home_team_Andorra  home_team_Angola  home_team_Anguilla  \\\n",
              "0                      0                 0                   0   \n",
              "1                      0                 0                   0   \n",
              "2                      0                 0                   0   \n",
              "3                      0                 0                   0   \n",
              "4                      0                 0                   0   \n",
              "...                  ...               ...                 ...   \n",
              "44552                  0                 0                   0   \n",
              "44553                  0                 0                   0   \n",
              "44554                  0                 0                   0   \n",
              "44555                  0                 0                   0   \n",
              "44556                  0                 0                   0   \n",
              "\n",
              "       home_team_Antigua and Barbuda  ...  country_Yugoslavia  country_Zambia  \\\n",
              "0                                  0  ...                   0               0   \n",
              "1                                  0  ...                   0               0   \n",
              "2                                  0  ...                   0               0   \n",
              "3                                  0  ...                   0               0   \n",
              "4                                  0  ...                   0               0   \n",
              "...                              ...  ...                 ...             ...   \n",
              "44552                              0  ...                   0               0   \n",
              "44553                              0  ...                   0               0   \n",
              "44554                              0  ...                   0               0   \n",
              "44555                              0  ...                   0               0   \n",
              "44556                              0  ...                   0               0   \n",
              "\n",
              "       country_Zanzibar  country_Zaïre  country_Zimbabwe  country_Éire  \\\n",
              "0                     0              0                 0             0   \n",
              "1                     0              0                 0             0   \n",
              "2                     0              0                 0             0   \n",
              "3                     0              0                 0             0   \n",
              "4                     0              0                 0             0   \n",
              "...                 ...            ...               ...           ...   \n",
              "44552                 0              0                 0             0   \n",
              "44553                 0              0                 0             0   \n",
              "44554                 0              0                 0             0   \n",
              "44555                 0              0                 0             0   \n",
              "44556                 0              0                 0             0   \n",
              "\n",
              "       result  neutral  home_score  away_score  \n",
              "0           1        0           0           0  \n",
              "1           2        0           4           2  \n",
              "2           2        0           2           1  \n",
              "3           1        0           2           2  \n",
              "4           2        0           3           0  \n",
              "...       ...      ...         ...         ...  \n",
              "44552       2        1           3           1  \n",
              "44553       1        1           0           0  \n",
              "44554       0        0           1           2  \n",
              "44555       0        0           1           2  \n",
              "44556       1        0           1           1  \n",
              "\n",
              "[44557 rows x 3045 columns]"
            ],
            "text/html": [
              "\n",
              "  <div id=\"df-ab68cdd7-e784-4795-b299-2d8063e0f2af\">\n",
              "    <div class=\"colab-df-container\">\n",
              "      <div>\n",
              "<style scoped>\n",
              "    .dataframe tbody tr th:only-of-type {\n",
              "        vertical-align: middle;\n",
              "    }\n",
              "\n",
              "    .dataframe tbody tr th {\n",
              "        vertical-align: top;\n",
              "    }\n",
              "\n",
              "    .dataframe thead th {\n",
              "        text-align: right;\n",
              "    }\n",
              "</style>\n",
              "<table border=\"1\" class=\"dataframe\">\n",
              "  <thead>\n",
              "    <tr style=\"text-align: right;\">\n",
              "      <th></th>\n",
              "      <th>home_team_Afghanistan</th>\n",
              "      <th>home_team_Albania</th>\n",
              "      <th>home_team_Alderney</th>\n",
              "      <th>home_team_Algeria</th>\n",
              "      <th>home_team_American Samoa</th>\n",
              "      <th>home_team_Andalusia</th>\n",
              "      <th>home_team_Andorra</th>\n",
              "      <th>home_team_Angola</th>\n",
              "      <th>home_team_Anguilla</th>\n",
              "      <th>home_team_Antigua and Barbuda</th>\n",
              "      <th>...</th>\n",
              "      <th>country_Yugoslavia</th>\n",
              "      <th>country_Zambia</th>\n",
              "      <th>country_Zanzibar</th>\n",
              "      <th>country_Zaïre</th>\n",
              "      <th>country_Zimbabwe</th>\n",
              "      <th>country_Éire</th>\n",
              "      <th>result</th>\n",
              "      <th>neutral</th>\n",
              "      <th>home_score</th>\n",
              "      <th>away_score</th>\n",
              "    </tr>\n",
              "  </thead>\n",
              "  <tbody>\n",
              "    <tr>\n",
              "      <th>0</th>\n",
              "      <td>0</td>\n",
              "      <td>0</td>\n",
              "      <td>0</td>\n",
              "      <td>0</td>\n",
              "      <td>0</td>\n",
              "      <td>0</td>\n",
              "      <td>0</td>\n",
              "      <td>0</td>\n",
              "      <td>0</td>\n",
              "      <td>0</td>\n",
              "      <td>...</td>\n",
              "      <td>0</td>\n",
              "      <td>0</td>\n",
              "      <td>0</td>\n",
              "      <td>0</td>\n",
              "      <td>0</td>\n",
              "      <td>0</td>\n",
              "      <td>1</td>\n",
              "      <td>0</td>\n",
              "      <td>0</td>\n",
              "      <td>0</td>\n",
              "    </tr>\n",
              "    <tr>\n",
              "      <th>1</th>\n",
              "      <td>0</td>\n",
              "      <td>0</td>\n",
              "      <td>0</td>\n",
              "      <td>0</td>\n",
              "      <td>0</td>\n",
              "      <td>0</td>\n",
              "      <td>0</td>\n",
              "      <td>0</td>\n",
              "      <td>0</td>\n",
              "      <td>0</td>\n",
              "      <td>...</td>\n",
              "      <td>0</td>\n",
              "      <td>0</td>\n",
              "      <td>0</td>\n",
              "      <td>0</td>\n",
              "      <td>0</td>\n",
              "      <td>0</td>\n",
              "      <td>2</td>\n",
              "      <td>0</td>\n",
              "      <td>4</td>\n",
              "      <td>2</td>\n",
              "    </tr>\n",
              "    <tr>\n",
              "      <th>2</th>\n",
              "      <td>0</td>\n",
              "      <td>0</td>\n",
              "      <td>0</td>\n",
              "      <td>0</td>\n",
              "      <td>0</td>\n",
              "      <td>0</td>\n",
              "      <td>0</td>\n",
              "      <td>0</td>\n",
              "      <td>0</td>\n",
              "      <td>0</td>\n",
              "      <td>...</td>\n",
              "      <td>0</td>\n",
              "      <td>0</td>\n",
              "      <td>0</td>\n",
              "      <td>0</td>\n",
              "      <td>0</td>\n",
              "      <td>0</td>\n",
              "      <td>2</td>\n",
              "      <td>0</td>\n",
              "      <td>2</td>\n",
              "      <td>1</td>\n",
              "    </tr>\n",
              "    <tr>\n",
              "      <th>3</th>\n",
              "      <td>0</td>\n",
              "      <td>0</td>\n",
              "      <td>0</td>\n",
              "      <td>0</td>\n",
              "      <td>0</td>\n",
              "      <td>0</td>\n",
              "      <td>0</td>\n",
              "      <td>0</td>\n",
              "      <td>0</td>\n",
              "      <td>0</td>\n",
              "      <td>...</td>\n",
              "      <td>0</td>\n",
              "      <td>0</td>\n",
              "      <td>0</td>\n",
              "      <td>0</td>\n",
              "      <td>0</td>\n",
              "      <td>0</td>\n",
              "      <td>1</td>\n",
              "      <td>0</td>\n",
              "      <td>2</td>\n",
              "      <td>2</td>\n",
              "    </tr>\n",
              "    <tr>\n",
              "      <th>4</th>\n",
              "      <td>0</td>\n",
              "      <td>0</td>\n",
              "      <td>0</td>\n",
              "      <td>0</td>\n",
              "      <td>0</td>\n",
              "      <td>0</td>\n",
              "      <td>0</td>\n",
              "      <td>0</td>\n",
              "      <td>0</td>\n",
              "      <td>0</td>\n",
              "      <td>...</td>\n",
              "      <td>0</td>\n",
              "      <td>0</td>\n",
              "      <td>0</td>\n",
              "      <td>0</td>\n",
              "      <td>0</td>\n",
              "      <td>0</td>\n",
              "      <td>2</td>\n",
              "      <td>0</td>\n",
              "      <td>3</td>\n",
              "      <td>0</td>\n",
              "    </tr>\n",
              "    <tr>\n",
              "      <th>...</th>\n",
              "      <td>...</td>\n",
              "      <td>...</td>\n",
              "      <td>...</td>\n",
              "      <td>...</td>\n",
              "      <td>...</td>\n",
              "      <td>...</td>\n",
              "      <td>...</td>\n",
              "      <td>...</td>\n",
              "      <td>...</td>\n",
              "      <td>...</td>\n",
              "      <td>...</td>\n",
              "      <td>...</td>\n",
              "      <td>...</td>\n",
              "      <td>...</td>\n",
              "      <td>...</td>\n",
              "      <td>...</td>\n",
              "      <td>...</td>\n",
              "      <td>...</td>\n",
              "      <td>...</td>\n",
              "      <td>...</td>\n",
              "      <td>...</td>\n",
              "    </tr>\n",
              "    <tr>\n",
              "      <th>44552</th>\n",
              "      <td>0</td>\n",
              "      <td>0</td>\n",
              "      <td>0</td>\n",
              "      <td>0</td>\n",
              "      <td>0</td>\n",
              "      <td>0</td>\n",
              "      <td>0</td>\n",
              "      <td>0</td>\n",
              "      <td>0</td>\n",
              "      <td>0</td>\n",
              "      <td>...</td>\n",
              "      <td>0</td>\n",
              "      <td>0</td>\n",
              "      <td>0</td>\n",
              "      <td>0</td>\n",
              "      <td>0</td>\n",
              "      <td>0</td>\n",
              "      <td>2</td>\n",
              "      <td>1</td>\n",
              "      <td>3</td>\n",
              "      <td>1</td>\n",
              "    </tr>\n",
              "    <tr>\n",
              "      <th>44553</th>\n",
              "      <td>0</td>\n",
              "      <td>0</td>\n",
              "      <td>0</td>\n",
              "      <td>0</td>\n",
              "      <td>0</td>\n",
              "      <td>0</td>\n",
              "      <td>0</td>\n",
              "      <td>0</td>\n",
              "      <td>0</td>\n",
              "      <td>0</td>\n",
              "      <td>...</td>\n",
              "      <td>0</td>\n",
              "      <td>0</td>\n",
              "      <td>0</td>\n",
              "      <td>0</td>\n",
              "      <td>0</td>\n",
              "      <td>0</td>\n",
              "      <td>1</td>\n",
              "      <td>1</td>\n",
              "      <td>0</td>\n",
              "      <td>0</td>\n",
              "    </tr>\n",
              "    <tr>\n",
              "      <th>44554</th>\n",
              "      <td>0</td>\n",
              "      <td>0</td>\n",
              "      <td>0</td>\n",
              "      <td>0</td>\n",
              "      <td>0</td>\n",
              "      <td>0</td>\n",
              "      <td>0</td>\n",
              "      <td>0</td>\n",
              "      <td>0</td>\n",
              "      <td>0</td>\n",
              "      <td>...</td>\n",
              "      <td>0</td>\n",
              "      <td>0</td>\n",
              "      <td>0</td>\n",
              "      <td>0</td>\n",
              "      <td>0</td>\n",
              "      <td>0</td>\n",
              "      <td>0</td>\n",
              "      <td>0</td>\n",
              "      <td>1</td>\n",
              "      <td>2</td>\n",
              "    </tr>\n",
              "    <tr>\n",
              "      <th>44555</th>\n",
              "      <td>0</td>\n",
              "      <td>0</td>\n",
              "      <td>0</td>\n",
              "      <td>0</td>\n",
              "      <td>0</td>\n",
              "      <td>0</td>\n",
              "      <td>0</td>\n",
              "      <td>0</td>\n",
              "      <td>0</td>\n",
              "      <td>0</td>\n",
              "      <td>...</td>\n",
              "      <td>0</td>\n",
              "      <td>0</td>\n",
              "      <td>0</td>\n",
              "      <td>0</td>\n",
              "      <td>0</td>\n",
              "      <td>0</td>\n",
              "      <td>0</td>\n",
              "      <td>0</td>\n",
              "      <td>1</td>\n",
              "      <td>2</td>\n",
              "    </tr>\n",
              "    <tr>\n",
              "      <th>44556</th>\n",
              "      <td>0</td>\n",
              "      <td>0</td>\n",
              "      <td>0</td>\n",
              "      <td>0</td>\n",
              "      <td>0</td>\n",
              "      <td>0</td>\n",
              "      <td>0</td>\n",
              "      <td>0</td>\n",
              "      <td>0</td>\n",
              "      <td>0</td>\n",
              "      <td>...</td>\n",
              "      <td>0</td>\n",
              "      <td>0</td>\n",
              "      <td>0</td>\n",
              "      <td>0</td>\n",
              "      <td>0</td>\n",
              "      <td>0</td>\n",
              "      <td>1</td>\n",
              "      <td>0</td>\n",
              "      <td>1</td>\n",
              "      <td>1</td>\n",
              "    </tr>\n",
              "  </tbody>\n",
              "</table>\n",
              "<p>44557 rows × 3045 columns</p>\n",
              "</div>\n",
              "      <button class=\"colab-df-convert\" onclick=\"convertToInteractive('df-ab68cdd7-e784-4795-b299-2d8063e0f2af')\"\n",
              "              title=\"Convert this dataframe to an interactive table.\"\n",
              "              style=\"display:none;\">\n",
              "        \n",
              "  <svg xmlns=\"http://www.w3.org/2000/svg\" height=\"24px\"viewBox=\"0 0 24 24\"\n",
              "       width=\"24px\">\n",
              "    <path d=\"M0 0h24v24H0V0z\" fill=\"none\"/>\n",
              "    <path d=\"M18.56 5.44l.94 2.06.94-2.06 2.06-.94-2.06-.94-.94-2.06-.94 2.06-2.06.94zm-11 1L8.5 8.5l.94-2.06 2.06-.94-2.06-.94L8.5 2.5l-.94 2.06-2.06.94zm10 10l.94 2.06.94-2.06 2.06-.94-2.06-.94-.94-2.06-.94 2.06-2.06.94z\"/><path d=\"M17.41 7.96l-1.37-1.37c-.4-.4-.92-.59-1.43-.59-.52 0-1.04.2-1.43.59L10.3 9.45l-7.72 7.72c-.78.78-.78 2.05 0 2.83L4 21.41c.39.39.9.59 1.41.59.51 0 1.02-.2 1.41-.59l7.78-7.78 2.81-2.81c.8-.78.8-2.07 0-2.86zM5.41 20L4 18.59l7.72-7.72 1.47 1.35L5.41 20z\"/>\n",
              "  </svg>\n",
              "      </button>\n",
              "      \n",
              "  <style>\n",
              "    .colab-df-container {\n",
              "      display:flex;\n",
              "      flex-wrap:wrap;\n",
              "      gap: 12px;\n",
              "    }\n",
              "\n",
              "    .colab-df-convert {\n",
              "      background-color: #E8F0FE;\n",
              "      border: none;\n",
              "      border-radius: 50%;\n",
              "      cursor: pointer;\n",
              "      display: none;\n",
              "      fill: #1967D2;\n",
              "      height: 32px;\n",
              "      padding: 0 0 0 0;\n",
              "      width: 32px;\n",
              "    }\n",
              "\n",
              "    .colab-df-convert:hover {\n",
              "      background-color: #E2EBFA;\n",
              "      box-shadow: 0px 1px 2px rgba(60, 64, 67, 0.3), 0px 1px 3px 1px rgba(60, 64, 67, 0.15);\n",
              "      fill: #174EA6;\n",
              "    }\n",
              "\n",
              "    [theme=dark] .colab-df-convert {\n",
              "      background-color: #3B4455;\n",
              "      fill: #D2E3FC;\n",
              "    }\n",
              "\n",
              "    [theme=dark] .colab-df-convert:hover {\n",
              "      background-color: #434B5C;\n",
              "      box-shadow: 0px 1px 3px 1px rgba(0, 0, 0, 0.15);\n",
              "      filter: drop-shadow(0px 1px 2px rgba(0, 0, 0, 0.3));\n",
              "      fill: #FFFFFF;\n",
              "    }\n",
              "  </style>\n",
              "\n",
              "      <script>\n",
              "        const buttonEl =\n",
              "          document.querySelector('#df-ab68cdd7-e784-4795-b299-2d8063e0f2af button.colab-df-convert');\n",
              "        buttonEl.style.display =\n",
              "          google.colab.kernel.accessAllowed ? 'block' : 'none';\n",
              "\n",
              "        async function convertToInteractive(key) {\n",
              "          const element = document.querySelector('#df-ab68cdd7-e784-4795-b299-2d8063e0f2af');\n",
              "          const dataTable =\n",
              "            await google.colab.kernel.invokeFunction('convertToInteractive',\n",
              "                                                     [key], {});\n",
              "          if (!dataTable) return;\n",
              "\n",
              "          const docLinkHtml = 'Like what you see? Visit the ' +\n",
              "            '<a target=\"_blank\" href=https://colab.research.google.com/notebooks/data_table.ipynb>data table notebook</a>'\n",
              "            + ' to learn more about interactive tables.';\n",
              "          element.innerHTML = '';\n",
              "          dataTable['output_type'] = 'display_data';\n",
              "          await google.colab.output.renderOutput(dataTable, element);\n",
              "          const docLink = document.createElement('div');\n",
              "          docLink.innerHTML = docLinkHtml;\n",
              "          element.appendChild(docLink);\n",
              "        }\n",
              "      </script>\n",
              "    </div>\n",
              "  </div>\n",
              "  "
            ]
          },
          "metadata": {},
          "execution_count": 9
        }
      ],
      "source": [
        "# combine encoded target, encoded features and numerical features into a new DataFrame\n",
        "encoded_data = pd.concat([data_ohe,\n",
        "                      pd.DataFrame(encoded_target, columns=['result']),\n",
        "                      pd.DataFrame(encoded_neutral, columns= ['neutral']),\n",
        "                      data['home_score'],\n",
        "                      data['away_score']],\n",
        "                     axis=1\n",
        "                     )\n",
        "encoded_data"
      ]
    },
    {
      "cell_type": "markdown",
      "source": [
        "####****Data Splitting****\n",
        "\n",
        "To avoid the model learning the training data too well and performing poorly on the unseen data, we will split the data into train,test and validation sets."
      ],
      "metadata": {
        "id": "Iud7KyoF10ND"
      }
    },
    {
      "cell_type": "code",
      "source": [
        "# drop target column\n",
        "X = encoded_data.drop('result',axis = 1)\n",
        "\n",
        "# define target column\n",
        "y = encoded_data['result']"
      ],
      "metadata": {
        "id": "8iyoxNzv26kR"
      },
      "execution_count": 10,
      "outputs": []
    },
    {
      "cell_type": "code",
      "source": [
        "# train test split\n",
        "X_train,X_test,y_train,y_test = train_test_split(X,y,test_size = 0.2,random_state = 42)\n",
        "\n",
        "# train validation split\n",
        "X_train,X_val,y_train,y_val = train_test_split(X_train,y_train,test_size = 0.2,random_state=42)\n",
        "\n",
        "print(f'X_train has {X_train.shape[0]} rows and {X_train.shape[1]} columns')\n",
        "print(f'X_test has {X_test.shape[0]} rows and {X_test.shape[1]} columns')\n",
        "print(f'X_val has {X_val.shape[0]} rows and {X_val.shape[1]} columns')"
      ],
      "metadata": {
        "colab": {
          "base_uri": "https://localhost:8080/"
        },
        "id": "aKolC7cI1y5x",
        "outputId": "c1478b82-953c-4928-ab4e-a908ab756d25"
      },
      "execution_count": 11,
      "outputs": [
        {
          "output_type": "stream",
          "name": "stdout",
          "text": [
            "X_train has 28516 rows and 3044 columns\n",
            "X_test has 8912 rows and 3044 columns\n",
            "X_val has 7129 rows and 3044 columns\n"
          ]
        }
      ]
    },
    {
      "cell_type": "markdown",
      "source": [
        "####****Handling Class Imbalance****\n",
        "\n",
        "Our target column has more home_team_wins classes(48.71%) compared to the draw(23%) and the away_team_wins(28.29%). This will make our model learn very well the home team wins trends on the training data but will perform poorly when presented with new data that does not have the crammed patterns.\n",
        "To handle this we will oversample the minority classes."
      ],
      "metadata": {
        "id": "gTnHpGzQ7Ltx"
      }
    },
    {
      "cell_type": "code",
      "source": [
        "# instantiate smote\n",
        "smote = SMOTE()\n",
        "\n",
        "# resample x and y train\n",
        "X_train_resampled, y_train_resampled = smote.fit_resample(X_train, y_train)"
      ],
      "metadata": {
        "id": "XH_Un92l8lql"
      },
      "execution_count": 12,
      "outputs": []
    },
    {
      "cell_type": "markdown",
      "source": [
        "####****Data Normalization****\n",
        "This is to ensure that all features have comparable ranges, preventing some features from dominating the learning process."
      ],
      "metadata": {
        "id": "lg4dGdYh5ktu"
      }
    },
    {
      "cell_type": "code",
      "source": [
        "# Instantiate minmax scaler\n",
        "scaler = MinMaxScaler()\n",
        "\n",
        "# fit transform xtrain\n",
        "X_train_scaled = scaler.fit_transform(X_train_resampled)\n",
        "\n",
        "# transform the validation\n",
        "X_val_scaled = scaler.transform(X_val)\n",
        "\n",
        "# transform test\n",
        "X_test_scaled = scaler.transform(X_test)"
      ],
      "metadata": {
        "id": "VB9qJndJ0GGu"
      },
      "execution_count": 13,
      "outputs": []
    },
    {
      "cell_type": "markdown",
      "source": [
        "###**MODELLING**\n",
        "\n",
        "We will start with relatively simple models during this iterative process and work our way up to more complicated ones."
      ],
      "metadata": {
        "id": "h9as6z7P9xxV"
      }
    },
    {
      "cell_type": "markdown",
      "source": [
        "####***Baseline Model***\n",
        "We will use KNN as our baseline model. It will serve as a starting point or reference for comparison when developing more complex models i.e it will provide a benchmark performance that can be used to evaluate the effectiveness of more advanced models or techniques."
      ],
      "metadata": {
        "id": "p82Aj7PW_N3m"
      }
    },
    {
      "cell_type": "code",
      "source": [
        "# Initialize the KNN model\n",
        "knn_model = KNeighborsClassifier()\n",
        "\n",
        "# Fit the model\n",
        "knn_model.fit(X_train_scaled, y_train_resampled)\n",
        "\n",
        "# Make predictions on the train set\n",
        "train_pred_knn = knn_model.predict(X_train_scaled)\n",
        "\n",
        "# Make predictions on the validation set\n",
        "val_pred_knn = knn_model.predict(X_val_scaled)\n",
        "\n",
        "# Evaluate the model\n",
        "train_acc_knn = accuracy_score(y_train_resampled, train_pred_knn)\n",
        "val_acc_knn = accuracy_score(y_val, val_pred_knn)\n",
        "\n",
        "# Print the accuracy score\n",
        "print(\"Train accuracy:\", train_acc_knn)\n",
        "print(\"Validation accuracy:\", val_acc_knn)"
      ],
      "metadata": {
        "colab": {
          "base_uri": "https://localhost:8080/"
        },
        "id": "aqx8HcPY16nt",
        "outputId": "a97aa9f3-62f8-4bb1-9989-97116842e18c"
      },
      "execution_count": 17,
      "outputs": [
        {
          "output_type": "stream",
          "name": "stdout",
          "text": [
            "Train accuracy: 0.7182369224894998\n",
            "Validation accuracy: 0.47355870388553795\n"
          ]
        }
      ]
    },
    {
      "cell_type": "markdown",
      "source": [
        "The knn model achieves a higher accuracy on training set compared to the testing set, which shows there is overfitting."
      ],
      "metadata": {
        "id": "eRX360QI40wX"
      }
    },
    {
      "cell_type": "markdown",
      "source": [
        "####***Random Forest Classifier***"
      ],
      "metadata": {
        "id": "W0dxHl9pTuos"
      }
    },
    {
      "cell_type": "code",
      "source": [
        "# Initialize the Random Forest Classifier\n",
        "rf_model = RandomForestClassifier()\n",
        "# Fit the model on the training set\n",
        "rf_model.fit(X_train_scaled, y_train_resampled)\n",
        "\n",
        "# Make predictions on training set\n",
        "train_pred_rf = rf_model.predict(X_train_scaled)\n",
        "\n",
        "# Make predictions on validation set\n",
        "val_pred_rf = rf_model.predict(X_val_scaled)\n",
        "\n",
        "# Evaluate the model performance\n",
        "train_acc_rf = accuracy_score(y_train_resampled, train_pred_rf)\n",
        "val_acc_rf = accuracy_score(y_val,val_pred_rf)\n",
        "\n",
        "# Print the accuracy scores\n",
        "print(\"Training Accuracy:\", train_acc_rf)\n",
        "print(\"Validation Accuracy:\", val_acc_rf)"
      ],
      "metadata": {
        "colab": {
          "base_uri": "https://localhost:8080/"
        },
        "id": "Y4SuXNIq296G",
        "outputId": "736f9b0d-560e-4bba-a3fb-b0aa0f23c50b"
      },
      "execution_count": 18,
      "outputs": [
        {
          "output_type": "stream",
          "name": "stdout",
          "text": [
            "Training Accuracy: 1.0\n",
            "Validation Accuracy: 0.9879365969981765\n"
          ]
        }
      ]
    },
    {
      "cell_type": "markdown",
      "source": [
        "The RF model performs well on training set and testing set."
      ],
      "metadata": {
        "id": "LiuZLXhY6R00"
      }
    },
    {
      "cell_type": "markdown",
      "source": [
        "####***XgBoost Classifier***"
      ],
      "metadata": {
        "id": "47WhrBBqn6A3"
      }
    },
    {
      "cell_type": "code",
      "source": [
        "# Initialize the XGBoost Classifier\n",
        "xgb_model = XGBClassifier()\n",
        "# Fit the model on the training set\n",
        "xgb_model.fit(X_train_scaled, y_train_resampled)\n",
        "\n",
        "# Make predictions on training set\n",
        "train_pred_xgb = xgb_model.predict(X_train_scaled)\n",
        "\n",
        "# Make predictions on testing set\n",
        "val_pred_xgb = xgb_model.predict(X_val_scaled)\n",
        "\n",
        "# Evaluate the model performance\n",
        "train_acc_xgb = accuracy_score(y_train_resampled, train_pred_xgb)\n",
        "val_acc_xgb = accuracy_score(y_val, val_pred_xgb)\n",
        "\n",
        "# Print the accuracy scores\n",
        "print(\"Training Accuracy:\", train_acc_xgb)\n",
        "print(\"Validation Accuracy:\", val_acc_xgb)"
      ],
      "metadata": {
        "id": "CghGwF2F3o8G",
        "colab": {
          "base_uri": "https://localhost:8080/"
        },
        "outputId": "d6248f27-304a-4803-b1b1-b5a39740dedf"
      },
      "execution_count": 20,
      "outputs": [
        {
          "output_type": "stream",
          "name": "stdout",
          "text": [
            "Training Accuracy: 1.0\n",
            "Validation Accuracy: 1.0\n"
          ]
        }
      ]
    },
    {
      "cell_type": "markdown",
      "source": [
        "The best performing model is the xgboost with a 100% accuracy on both the train and validation set. For that reason we will use it for our model evaluation."
      ],
      "metadata": {
        "id": "KLMN9JeaoPj0"
      }
    },
    {
      "cell_type": "markdown",
      "source": [
        "###**MODEL EVALUATION**\n",
        "\n",
        "During this phase we will assess the performance and effectiveness of a machine learning model. It will involve measuring how well the model performs on the test dataset or how accurately it can make predictions on new, unseen test data."
      ],
      "metadata": {
        "id": "xwJBbDaRpBpR"
      }
    },
    {
      "cell_type": "code",
      "source": [
        "# Make predictions on testing set\n",
        "test_pred_xgb = xgb_model.predict(X_test_scaled)\n",
        "\n",
        "# Evaluate the model performance\n",
        "train_acc_xgb = accuracy_score(y_train_resampled, train_pred_xgb)\n",
        "test_acc_xgb = accuracy_score(y_test, test_pred_xgb)\n",
        "\n",
        "# Print the accuracy scores\n",
        "print(\"Training Accuracy:\", train_acc_xgb)\n",
        "print(\"Test Accuracy:\", test_acc_xgb)"
      ],
      "metadata": {
        "colab": {
          "base_uri": "https://localhost:8080/"
        },
        "id": "Wv_JmNbhqa0j",
        "outputId": "63f875d2-85d2-48a0-e33a-bfebcd405daf"
      },
      "execution_count": 21,
      "outputs": [
        {
          "output_type": "stream",
          "name": "stdout",
          "text": [
            "Training Accuracy: 1.0\n",
            "Test Accuracy: 0.9998877917414721\n"
          ]
        }
      ]
    },
    {
      "cell_type": "markdown",
      "source": [
        "On the unseen test data, the model still performs exceptionally well. This demonstrates that the model has not been overfit."
      ],
      "metadata": {
        "id": "_vtyylwkrsMr"
      }
    },
    {
      "cell_type": "code",
      "source": [
        "# Calculate the confusion matrix\n",
        "cm = confusion_matrix(y_test, test_pred_xgb)\n",
        "\n",
        "# Plot the confusion matrix\n",
        "sns.heatmap(cm, annot=True, cmap=\"Blues\",fmt=\"d\")\n",
        "plt.title(\"Confusion Matrix\")\n",
        "plt.xlabel(\"Predicted Labels\")\n",
        "plt.ylabel(\"True Labels\")\n",
        "plt.show()"
      ],
      "metadata": {
        "colab": {
          "base_uri": "https://localhost:8080/",
          "height": 472
        },
        "id": "EUocKVq7speP",
        "outputId": "b978418e-5bf6-4d35-da8d-e611df1c8fb7"
      },
      "execution_count": 27,
      "outputs": [
        {
          "output_type": "display_data",
          "data": {
            "text/plain": [
              "<Figure size 640x480 with 2 Axes>"
            ],
            "image/png": "[encoded data removed]"
          },
          "metadata": {}
        }
      ]
    },
    {
      "cell_type": "markdown",
      "source": [
        "From the confusion matrix,only 1 result has been wrongly classified hence the  ~99% accuracy."
      ],
      "metadata": {
        "id": "VdBxNV-LtIla"
      }
    },
    {
      "cell_type": "code",
      "source": [],
      "metadata": {
        "id": "JsPuh7XQxAgP"
      },
      "execution_count": null,
      "outputs": []
    }
  ],
  "metadata": {
    "colab": {
      "provenance": []
    },
    "kernelspec": {
      "display_name": "Python 3",
      "name": "python3"
    },
    "language_info": {
      "name": "python"
    }
  },
  "nbformat": 4,
  "nbformat_minor": 0
}